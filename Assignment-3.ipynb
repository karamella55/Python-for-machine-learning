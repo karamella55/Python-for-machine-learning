{
 "cells": [
  {
   "cell_type": "code",
   "execution_count": 1,
   "metadata": {},
   "outputs": [
    {
     "name": "stdout",
     "output_type": "stream",
     "text": [
      "0\n",
      "1\n",
      "1\n",
      "2\n",
      "3\n",
      "5\n",
      "8\n",
      "13\n",
      "21\n",
      "34\n"
     ]
    }
   ],
   "source": [
    "#####question 1########\n",
    "def feb(x):\n",
    "    if x<=1:\n",
    "        return x\n",
    "    else:\n",
    "        return feb(x-1)+feb(x-2)\n",
    "z=10\n",
    "for i in range(z):\n",
    "    print(feb(i))"
   ]
  },
  {
   "cell_type": "code",
   "execution_count": 2,
   "metadata": {},
   "outputs": [
    {
     "name": "stdout",
     "output_type": "stream",
     "text": [
      "iam 1\n",
      "youssef 1\n",
      "karam 2\n",
      "karameellax 1\n"
     ]
    }
   ],
   "source": [
    "#######question 2########\n",
    "def countt(s):\n",
    "    combined=\" \".join(s).lower()\n",
    "    w=combined.split()\n",
    "    cc={}\n",
    "    for i in w:\n",
    "        if i in cc:\n",
    "            cc[i]+=1\n",
    "        else:\n",
    "            cc[i]=1\n",
    "    return cc\n",
    "ll=[\"iam youssef karam\",\"Karameellax\",\"karam\"]\n",
    "x=countt(ll)\n",
    "for w,c in x.items():\n",
    "    print(w,c)"
   ]
  },
  {
   "cell_type": "code",
   "execution_count": 4,
   "metadata": {},
   "outputs": [
    {
     "name": "stdout",
     "output_type": "stream",
     "text": [
      "2 8\n",
      "3 7\n",
      "4 6\n"
     ]
    }
   ],
   "source": [
    "########question 3########\n",
    "def find(x,n):\n",
    "    for i in x:\n",
    "       for j in range(i+1,len(x)):\n",
    "           if i+j==n:\n",
    "               print(i,j)\n",
    "\n",
    "ll=[1,2,3,4,5,6,7,8,9]\n",
    "find(ll,10)"
   ]
  },
  {
   "cell_type": "code",
   "execution_count": 7,
   "metadata": {},
   "outputs": [
    {
     "name": "stdout",
     "output_type": "stream",
     "text": [
      "13\n"
     ]
    }
   ],
   "source": [
    "########question 4########\n",
    "def maxx(x):\n",
    "    high=0\n",
    "    for i in x:\n",
    "        for j in range(i+1,len(x)):\n",
    "            if i+j>high:\n",
    "                high=i+j\n",
    "    return high\n",
    "ll=[1,2,3,4,5,6,7,8]\n",
    "print(maxx(ll))"
   ]
  },
  {
   "cell_type": "code",
   "execution_count": 8,
   "metadata": {},
   "outputs": [
    {
     "name": "stdout",
     "output_type": "stream",
     "text": [
      "prime\n"
     ]
    }
   ],
   "source": [
    "########question 5########\n",
    "def prime(x):\n",
    "    if x <2:\n",
    "        return False\n",
    "    else:\n",
    "        for i in range(2,int(x**0.5)+1):\n",
    "            if x%i==0:\n",
    "                print(\"not prime\")\n",
    "            else:\n",
    "                print(\"prime\")\n",
    "xx=5\n",
    "prime(xx)\n",
    "                "
   ]
  },
  {
   "cell_type": "code",
   "execution_count": 9,
   "metadata": {},
   "outputs": [
    {
     "name": "stdout",
     "output_type": "stream",
     "text": [
      "2 its even\n",
      "4 its even\n",
      "6 its even\n",
      "8 its even\n"
     ]
    }
   ],
   "source": [
    "########question 6########\n",
    "def even(x):\n",
    "    for i in x:\n",
    "        if i%2==0:\n",
    "            print(i,\"its even\")\n",
    "ll=[1,2,3,4,5,6,7,8,9]\n",
    "even(ll)"
   ]
  },
  {
   "cell_type": "code",
   "execution_count": 13,
   "metadata": {},
   "outputs": [
    {
     "name": "stdout",
     "output_type": "stream",
     "text": [
      "karam youssef iam\n"
     ]
    }
   ],
   "source": [
    "########question 7########\n",
    "def rev(x):\n",
    "    w=x.split()\n",
    "    w1=w[::-1]\n",
    "    w2=\" \".join(w1)\n",
    "    return w2\n",
    "ll=\"iam youssef karam\"\n",
    "print(rev(ll))"
   ]
  },
  {
   "cell_type": "code",
   "execution_count": 15,
   "metadata": {},
   "outputs": [
    {
     "name": "stdout",
     "output_type": "stream",
     "text": [
      "not palindrom\n"
     ]
    }
   ],
   "source": [
    "########question 8########\n",
    "def palindrom(x):\n",
    "    x1=str(x)\n",
    "    if x1==x1[::-1]:\n",
    "        print(\"palindrom\")\n",
    "    else:\n",
    "        print(\"not palindrom\")\n",
    "xx=10\n",
    "palindrom(xx)\n"
   ]
  },
  {
   "cell_type": "code",
   "execution_count": 22,
   "metadata": {},
   "outputs": [
    {
     "name": "stdout",
     "output_type": "stream",
     "text": [
      "palindrom\n",
      "not palindrom\n"
     ]
    }
   ],
   "source": [
    "########question 9########\n",
    "def pali(x):\n",
    "    x=x.replace(\" \",\"\").lower()\n",
    "    if x==x[::-1]:\n",
    "        print(\"palindrom\")\n",
    "    else:\n",
    "        print(\"not palindrom\")\n",
    "xx=\"mam\"\n",
    "xx1=\"mama\"\n",
    "pali(xx)\n",
    "pali(xx1)"
   ]
  },
  {
   "cell_type": "code",
   "execution_count": 23,
   "metadata": {},
   "outputs": [
    {
     "name": "stdout",
     "output_type": "stream",
     "text": [
      "[1, 4, 9, 16, 25, 36, 49, 64, 81, 100, 121, 144, 169, 196, 225, 256, 289, 324, 361, 400, 441, 484, 529, 576, 625, 676, 729, 784, 841, 900]\n"
     ]
    }
   ],
   "source": [
    "########question 10########\n",
    "def square():\n",
    "    squaree=[x**2 for x in range(1,31)]\n",
    "    print(squaree)\n",
    "square()\n",
    "    "
   ]
  },
  {
   "cell_type": "code",
   "execution_count": 29,
   "metadata": {},
   "outputs": [],
   "source": [
    "########question 11########\n",
    "def permutation(x,ll=[]):\n",
    "    for i in range(len(x)):\n",
    "        permutation(x[:i]+x[i+1:],ll+[x[i]])\n",
    "listt=[1,2,3]\n",
    "permutation(listt)\n",
    "    "
   ]
  },
  {
   "cell_type": "code",
   "execution_count": 31,
   "metadata": {},
   "outputs": [
    {
     "name": "stdout",
     "output_type": "stream",
     "text": [
      "karamellla\n",
      "None\n"
     ]
    }
   ],
   "source": [
    "########question 12########\n",
    "def outt():\n",
    "    def inn():\n",
    "        print(\"karamellla\")\n",
    "    return inn()\n",
    "x=outt()\n",
    "print(x)"
   ]
  }
 ],
 "metadata": {
  "kernelspec": {
   "display_name": "Python 3",
   "language": "python",
   "name": "python3"
  },
  "language_info": {
   "codemirror_mode": {
    "name": "ipython",
    "version": 3
   },
   "file_extension": ".py",
   "mimetype": "text/x-python",
   "name": "python",
   "nbconvert_exporter": "python",
   "pygments_lexer": "ipython3",
   "version": "3.8.0"
  }
 },
 "nbformat": 4,
 "nbformat_minor": 2
}
