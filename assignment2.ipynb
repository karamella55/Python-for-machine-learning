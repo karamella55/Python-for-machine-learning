{
 "cells": [
  {
   "cell_type": "code",
   "execution_count": 1,
   "metadata": {},
   "outputs": [
    {
     "name": "stdout",
     "output_type": "stream",
     "text": [
      "['a']\n"
     ]
    }
   ],
   "source": [
    "####Question one###\n",
    "li=[]\n",
    "li.append(\"a\")\n",
    "print(li)"
   ]
  },
  {
   "cell_type": "code",
   "execution_count": 4,
   "metadata": {},
   "outputs": [
    {
     "name": "stdout",
     "output_type": "stream",
     "text": [
      "21\n"
     ]
    }
   ],
   "source": [
    "####Question 2####\n",
    "li1=[1,2,3,4,5,6]\n",
    "s=sum(li1)\n",
    "print(s)\n"
   ]
  },
  {
   "cell_type": "code",
   "execution_count": 7,
   "metadata": {},
   "outputs": [
    {
     "name": "stdout",
     "output_type": "stream",
     "text": [
      "120\n"
     ]
    }
   ],
   "source": [
    "######question3#######\n",
    "def mul(lis):\n",
    "    x=1\n",
    "    for i in lis:\n",
    "        x=x*i\n",
    "    return x\n",
    "\n",
    "li2=[1,2,3,4,5]\n",
    "print(mul(li2))"
   ]
  },
  {
   "cell_type": "code",
   "execution_count": 9,
   "metadata": {},
   "outputs": [
    {
     "name": "stdout",
     "output_type": "stream",
     "text": [
      "1\n",
      "5\n"
     ]
    }
   ],
   "source": [
    "####Question 4####\n",
    "li3=[1,2,3,4,5]\n",
    "mm=min(li3)\n",
    "print(mm)\n",
    "\n",
    "#######Question 5####\n",
    "li4=[1,2,3,4,5]\n",
    "mm=max(li4)\n",
    "print(mm)"
   ]
  },
  {
   "cell_type": "code",
   "execution_count": 17,
   "metadata": {},
   "outputs": [
    {
     "data": {
      "text/plain": [
       "5"
      ]
     },
     "execution_count": 17,
     "metadata": {},
     "output_type": "execute_result"
    }
   ],
   "source": [
    "####Question 6####\n",
    "\n",
    "li5=[\"youssef\",\"mohamed\",\"ahmed\",\"ali\",\"mohamed\"]\n",
    "len(li5)\n"
   ]
  },
  {
   "cell_type": "code",
   "execution_count": 18,
   "metadata": {},
   "outputs": [
    {
     "name": "stdout",
     "output_type": "stream",
     "text": [
      "[1, 2, 3, 4, 5]\n"
     ]
    }
   ],
   "source": [
    "######question 7####\n",
    "li6=[1,2,3,4,5]\n",
    "ll=li6.copy()\n",
    "print(ll)"
   ]
  },
  {
   "cell_type": "code",
   "execution_count": 32,
   "metadata": {},
   "outputs": [
    {
     "name": "stdout",
     "output_type": "stream",
     "text": [
      "{1, 2, 3, 4} <class 'set'>\n"
     ]
    }
   ],
   "source": [
    "#####Question 8####\n",
    "s=(1,2,3,4,5)\n",
    "z=list(s)\n",
    "z.pop()\n",
    "x=set(z)\n",
    "print(x,type(x))\n",
    "\n"
   ]
  },
  {
   "cell_type": "code",
   "execution_count": 35,
   "metadata": {},
   "outputs": [
    {
     "name": "stdout",
     "output_type": "stream",
     "text": [
      "True\n"
     ]
    }
   ],
   "source": [
    "#####Question 9####\n",
    "ss1={\"karam\", \"mango\", \"banana\", \"apple\"}\n",
    "ss2={\"karam\", \"mango\", \"banana\", \"apple\"}\n",
    "ss3=ss1.issubset(ss2)\n",
    "print(ss3)"
   ]
  },
  {
   "cell_type": "code",
   "execution_count": 38,
   "metadata": {},
   "outputs": [
    {
     "name": "stdout",
     "output_type": "stream",
     "text": [
      "set()\n"
     ]
    }
   ],
   "source": [
    "#####Question 10####\n",
    "s=(1,2,3,4,5)\n",
    "m=list(s)\n",
    "m.clear()\n",
    "cc=set(m)\n",
    "set(cc)\n",
    "print(cc)"
   ]
  },
  {
   "cell_type": "code",
   "execution_count": 40,
   "metadata": {},
   "outputs": [
    {
     "name": "stdout",
     "output_type": "stream",
     "text": [
      "1\n",
      "5\n"
     ]
    }
   ],
   "source": [
    "######question11####\n",
    "v=(1,2,3,4,5)\n",
    "print(min(v))\n",
    "print(max(v))"
   ]
  },
  {
   "cell_type": "code",
   "execution_count": 44,
   "metadata": {},
   "outputs": [
    {
     "name": "stdout",
     "output_type": "stream",
     "text": [
      "1\n"
     ]
    }
   ],
   "source": [
    "#######question12######\n",
    "\n",
    "list1=[1,2,3,4,5]\n",
    "x=2\n",
    "for i in range(len(list1)):\n",
    "    if list1[i] == x:\n",
    "      print(i)  "
   ]
  },
  {
   "cell_type": "code",
   "execution_count": 58,
   "metadata": {},
   "outputs": [
    {
     "name": "stdout",
     "output_type": "stream",
     "text": [
      "{1: 'youssef', 2: 'karam'}\n"
     ]
    }
   ],
   "source": [
    "########questiuon13#######\n",
    "\n",
    "ll=((1,\"youssef\"),(2,\"karam\"))\n",
    "xxc=dict(ll)\n",
    "print(xxc)"
   ]
  },
  {
   "cell_type": "code",
   "execution_count": 47,
   "metadata": {},
   "outputs": [
    {
     "name": "stdout",
     "output_type": "stream",
     "text": [
      "[1, 5, 9]\n",
      "[2, 6, 10]\n",
      "[3, 7, 11]\n"
     ]
    }
   ],
   "source": [
    "#####question 14##########\n",
    "g=[[1,2,3,4],[5,6,7,8],[9,10,11]]\n",
    "\n",
    "l1,l2,l3=[],[],[]\n",
    "for i in g:\n",
    "    l1.append(i[0])\n",
    "    l2.append(i[1])\n",
    "    l3.append(i[2])\n",
    "print(l1)\n",
    "print(l2)\n",
    "print(l3)"
   ]
  },
  {
   "cell_type": "code",
   "execution_count": 53,
   "metadata": {},
   "outputs": [
    {
     "name": "stdout",
     "output_type": "stream",
     "text": [
      "[10, 9, 8, 7, 6, 5, 4, 3, 2, 1]\n"
     ]
    }
   ],
   "source": [
    "#####question 15####\n",
    "\n",
    "lo=[1,2,3,4,5,6,7,8,9,10]\n",
    "lo.reverse()\n",
    "print(lo)"
   ]
  },
  {
   "cell_type": "code",
   "execution_count": null,
   "metadata": {},
   "outputs": [],
   "source": [
    "##########question16########\n",
    "ll=[(1,\"youssef\"),(2,\"karam\")]\n",
    "xxc=dict(ll)\n",
    "print(xxc)"
   ]
  },
  {
   "cell_type": "code",
   "execution_count": 77,
   "metadata": {},
   "outputs": [
    {
     "name": "stdout",
     "output_type": "stream",
     "text": [
      "[(1, 2, 3, 100), (5, 6, 7, 100), (9, 10, 100)]\n"
     ]
    }
   ],
   "source": [
    "####3question 17####\n",
    "li=[(1,2,3,4),(5,6,7,8),(9,10,11)]\n",
    "x=100\n",
    "modified_list = [t[:-1] + (x,) for t in li]\n",
    "print(modified_list)\n",
    "    \n",
    "    "
   ]
  },
  {
   "cell_type": "code",
   "execution_count": 78,
   "metadata": {},
   "outputs": [
    {
     "name": "stdout",
     "output_type": "stream",
     "text": [
      "[(2, 0.8), (3, 1.2), (1, 2.5), (5, 4.3)]\n"
     ]
    }
   ],
   "source": [
    "#########question 18########\n",
    "lz= [(1, 2.5), (3, 1.2), (5, 4.3), (2, 0.8)]\n",
    "x=sorted(lz,key=lambda x:x[1])\n",
    "print(x)"
   ]
  }
 ],
 "metadata": {
  "kernelspec": {
   "display_name": "Python 3",
   "language": "python",
   "name": "python3"
  },
  "language_info": {
   "codemirror_mode": {
    "name": "ipython",
    "version": 3
   },
   "file_extension": ".py",
   "mimetype": "text/x-python",
   "name": "python",
   "nbconvert_exporter": "python",
   "pygments_lexer": "ipython3",
   "version": "3.8.0"
  }
 },
 "nbformat": 4,
 "nbformat_minor": 2
}
